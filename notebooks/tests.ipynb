{
 "cells": [
  {
   "cell_type": "code",
   "execution_count": 1,
   "metadata": {},
   "outputs": [],
   "source": [
    "import sys\n",
    "from pathlib import Path"
   ]
  },
  {
   "cell_type": "code",
   "execution_count": 2,
   "metadata": {},
   "outputs": [],
   "source": [
    "project_root = Path().resolve().parent\n",
    "sys.path.append(str(project_root))"
   ]
  },
  {
   "cell_type": "code",
   "execution_count": 3,
   "metadata": {},
   "outputs": [],
   "source": [
    "from src.data.data_loader import DataLoader"
   ]
  },
  {
   "cell_type": "code",
   "execution_count": 4,
   "metadata": {},
   "outputs": [],
   "source": [
    "data_loader = DataLoader()\n",
    "qa_pairs = data_loader.load_data()"
   ]
  },
  {
   "cell_type": "code",
   "execution_count": 5,
   "metadata": {},
   "outputs": [
    {
     "data": {
      "text/plain": [
       "{'entry_id': 'entry_0000',\n",
       " 'pre_text': ['26 | 2009 annual report in fiscal 2008 , revenues in the credit union systems and services business segment increased 14% ( 14 % ) from fiscal 2007 .',\n",
       "  'all revenue components within the segment experienced growth during fiscal 2008 .',\n",
       "  'license revenue generated the largest dollar growth in revenue as episys ae , our flagship core processing system aimed at larger credit unions , experienced strong sales throughout the year .',\n",
       "  'support and service revenue , which is the largest component of total revenues for the credit union segment , experienced 34 percent growth in eft support and 10 percent growth in in-house support .',\n",
       "  'gross profit in this business segment increased $ 9344 in fiscal 2008 compared to fiscal 2007 , due primarily to the increase in license revenue , which carries the highest margins .',\n",
       "  'liquidity and capital resources we have historically generated positive cash flow from operations and have generally used funds generated from operations and short-term borrowings on our revolving credit facility to meet capital requirements .',\n",
       "  'we expect this trend to continue in the future .',\n",
       "  'the company 2019s cash and cash equivalents increased to $ 118251 at june 30 , 2009 from $ 65565 at june 30 , 2008 .',\n",
       "  'the following table summarizes net cash from operating activities in the statement of cash flows : 2009 2008 2007 .'],\n",
       " 'post_text': ['year ended june 30 , cash provided by operations increased $ 25587 to $ 206588 for the fiscal year ended june 30 , 2009 as compared to $ 181001 for the fiscal year ended june 30 , 2008 .',\n",
       "  'this increase is primarily attributable to a decrease in receivables compared to the same period a year ago of $ 21214 .',\n",
       "  'this decrease is largely the result of fiscal 2010 annual software maintenance billings being provided to customers earlier than in the prior year , which allowed more cash to be collected before the end of the fiscal year than in previous years .',\n",
       "  'further , we collected more cash overall related to revenues that will be recognized in subsequent periods in the current year than in fiscal 2008 .',\n",
       "  'cash used in investing activities for the fiscal year ended june 2009 was $ 59227 and includes $ 3027 in contingent consideration paid on prior years 2019 acquisitions .',\n",
       "  'cash used in investing activities for the fiscal year ended june 2008 was $ 102148 and includes payments for acquisitions of $ 48109 , plus $ 1215 in contingent consideration paid on prior years 2019 acquisitions .',\n",
       "  'capital expenditures for fiscal 2009 were $ 31562 compared to $ 31105 for fiscal 2008 .',\n",
       "  'cash used for software development in fiscal 2009 was $ 24684 compared to $ 23736 during the prior year .',\n",
       "  'net cash used in financing activities for the current fiscal year was $ 94675 and includes the repurchase of 3106 shares of our common stock for $ 58405 , the payment of dividends of $ 26903 and $ 13489 net repayment on our revolving credit facilities .',\n",
       "  'cash used in financing activities was partially offset by proceeds of $ 3773 from the exercise of stock options and the sale of common stock ( through the employee stock purchase plan ) and $ 348 excess tax benefits from stock option exercises .',\n",
       "  'during fiscal 2008 , net cash used in financing activities for the fiscal year was $ 101905 and includes the repurchase of 4200 shares of our common stock for $ 100996 , the payment of dividends of $ 24683 and $ 429 net repayment on our revolving credit facilities .',\n",
       "  'cash used in financing activities was partially offset by proceeds of $ 20394 from the exercise of stock options and the sale of common stock and $ 3809 excess tax benefits from stock option exercises .',\n",
       "  'beginning during fiscal 2008 , us financial markets and many of the largest us financial institutions have been shaken by negative developments in the home mortgage industry and the mortgage markets , and particularly the markets for subprime mortgage-backed securities .',\n",
       "  'since that time , these and other such developments have resulted in a broad , global economic downturn .',\n",
       "  'while we , as is the case with most companies , have experienced the effects of this downturn , we have not experienced any significant issues with our current collection efforts , and we believe that any future impact to our liquidity will be minimized by cash generated by recurring sources of revenue and due to our access to available lines of credit. .'],\n",
       " 'table': [['2008',\n",
       "   'year ended june 30 2009 2008',\n",
       "   'year ended june 30 2009 2008',\n",
       "   'year ended june 30 2009'],\n",
       "  ['net income', '$ 103102', '$ 104222', '$ 104681'],\n",
       "  ['non-cash expenses', '74397', '70420', '56348'],\n",
       "  ['change in receivables', '21214', '-2913 ( 2913 )', '-28853 ( 28853 )'],\n",
       "  ['change in deferred revenue', '21943', '5100', '24576'],\n",
       "  ['change in other assets and liabilities',\n",
       "   '-14068 ( 14068 )',\n",
       "   '4172',\n",
       "   '17495'],\n",
       "  ['net cash from operating activities', '$ 206588', '$ 181001', '$ 174247']],\n",
       " 'qa_pairs': [{'question': 'what was the percentage change in the net cash from operating activities from 2008 to 2009',\n",
       "   'answer': '14.1%'}]}"
      ]
     },
     "execution_count": 5,
     "metadata": {},
     "output_type": "execute_result"
    }
   ],
   "source": [
    "qa_pairs[0]"
   ]
  },
  {
   "cell_type": "code",
   "execution_count": 6,
   "metadata": {},
   "outputs": [],
   "source": [
    "from src.models.answer_processor import AnswerProcessor\n",
    "\n",
    "\n",
    "processor = AnswerProcessor()"
   ]
  },
  {
   "cell_type": "code",
   "execution_count": 7,
   "metadata": {},
   "outputs": [
    {
     "name": "stdout",
     "output_type": "stream",
     "text": [
      "Processed answer: 1.27%\n"
     ]
    }
   ],
   "source": [
    "llm_response = \"\"\"\n",
    "\n",
    "{\n",
    "  \"formula\": \"divide(subtract(9362.2, 9244.9), 9244.9)\",\n",
    "  \"formatting_instructions\": {\n",
    "    \"prefix\": \"\",\n",
    "    \"suffix\": \"%\",\n",
    "    \"rounding\": 2,\n",
    "    \"multiplier\": 100\n",
    "  }\n",
    "}\n",
    "\n",
    "\"\"\"\n",
    "    \n",
    "try:\n",
    "    answer = processor.process_answer(llm_response)\n",
    "    print(f\"Processed answer: {answer}\")  # Should output: \"1.27%\"\n",
    "except ValueError as e:\n",
    "    print(f\"Error: {e}\")"
   ]
  },
  {
   "cell_type": "code",
   "execution_count": 8,
   "metadata": {},
   "outputs": [
    {
     "name": "stderr",
     "output_type": "stream",
     "text": [
      "/Users/mmanghnani/Documents/tomoro.ai/Technical Asignment/.venv/lib/python3.10/site-packages/tqdm/auto.py:21: TqdmWarning: IProgress not found. Please update jupyter and ipywidgets. See https://ipywidgets.readthedocs.io/en/stable/user_install.html\n",
      "  from .autonotebook import tqdm as notebook_tqdm\n"
     ]
    }
   ],
   "source": [
    "\n",
    "from src.models.llm_interface import LLMInterface, QuestionContext\n"
   ]
  },
  {
   "cell_type": "code",
   "execution_count": 9,
   "metadata": {},
   "outputs": [],
   "source": [
    "llm = LLMInterface()"
   ]
  },
  {
   "cell_type": "code",
   "execution_count": 40,
   "metadata": {},
   "outputs": [],
   "source": [
    "entry = qa_pairs[1024]"
   ]
  },
  {
   "cell_type": "code",
   "execution_count": 41,
   "metadata": {},
   "outputs": [
    {
     "data": {
      "text/plain": [
       "dict_keys(['entry_id', 'pre_text', 'post_text', 'table', 'qa_pairs'])"
      ]
     },
     "execution_count": 41,
     "metadata": {},
     "output_type": "execute_result"
    }
   ],
   "source": [
    "entry.keys()"
   ]
  },
  {
   "cell_type": "code",
   "execution_count": 42,
   "metadata": {},
   "outputs": [],
   "source": [
    "context = QuestionContext(\n",
    "            pre_text=entry['pre_text'],\n",
    "            post_text=entry['post_text'],\n",
    "            table=entry['table'],\n",
    "            questions=entry['qa_pairs'],\n",
    "            entry_id=entry['entry_id']\n",
    "        )"
   ]
  },
  {
   "cell_type": "code",
   "execution_count": 43,
   "metadata": {},
   "outputs": [
    {
     "data": {
      "text/plain": [
       "\"\\n    pre_text: \\n    ```\\n    ['a significant portion of our natural gas production in the lower 48 states of the u.s .', 'is sold at bid-week prices or first-of-month indices relative to our specific producing areas .', 'average settlement date henry hub natural gas prices have been relatively stable for the periods of this report ; however , a decline began in september 2011 which has continued in 2012 with february averaging $ 2.68 per mmbtu .', 'should u.s .', 'natural gas prices remain depressed , an impairment charge related to our natural gas assets may be necessary .', 'our other major natural gas-producing regions are europe and eg .', 'natural gas prices in europe have been significantly higher than in the u.s .', 'in the case of eg our natural gas sales are subject to term contracts , making realized prices less volatile .', 'the natural gas sales from eg are at fixed prices ; therefore , our worldwide reported average natural gas realized prices may not fully track market price movements .', 'oil sands mining osm segment revenues correlate with prevailing market prices for the various qualities of synthetic crude oil we produce .', 'roughly two-thirds of the normal output mix will track movements in wti and one-third will track movements in the canadian heavy sour crude oil marker , primarily western canadian select .', 'output mix can be impacted by operational problems or planned unit outages at the mines or the upgrader .', 'the operating cost structure of the oil sands mining operations is predominantly fixed and therefore many of the costs incurred in times of full operation continue during production downtime .', 'per-unit costs are sensitive to production rates .', 'key variable costs are natural gas and diesel fuel , which track commodity markets such as the canadian alberta energy company ( 201caeco 201d ) natural gas sales index and crude oil prices , respectively .', 'recently aeco prices have declined , much as henry hub prices have .', 'we would expect a significant , continued declined in natural gas prices to have a favorable impact on osm operating costs .', 'the table below shows average benchmark prices that impact both our revenues and variable costs. .']\\n    ```\\n    post_text:\\n    ```\\n    ['wti crude oil ( dollars per bbl ) $ 95.11 $ 79.61 $ 62.09 western canadian select ( dollars per bbl ) ( a ) 77.97 65.31 52.13 aeco natural gas sales index ( dollars per mmbtu ) ( b ) $ 3.68 $ 3.89 $ 3.49 ( a ) monthly pricing based upon average wti adjusted for differentials unique to western canada .', '( b ) monthly average day ahead index .', 'integrated gas our integrated gas operations include production and marketing of products manufactured from natural gas , such as lng and methanol , in eg .', 'world lng trade in 2011 has been estimated to be 241 mmt .', 'long-term , lng continues to be in demand as markets seek the benefits of clean burning natural gas .', 'market prices for lng are not reported or posted .', 'in general , lng delivered to the u.s .', 'is tied to henry hub prices and will track with changes in u.s .', 'natural gas prices , while lng sold in europe and asia is indexed to crude oil prices and will track the movement of those prices .', 'we have a 60 percent ownership in an lng production facility in equatorial guinea , which sells lng under a long-term contract at prices tied to henry hub natural gas prices .', 'gross sales from the plant were 4.1 mmt , 3.7 mmt and 3.9 mmt in 2011 , 2010 and 2009 .', 'we own a 45 percent interest in a methanol plant located in equatorial guinea through our investment in ampco .', 'gross sales of methanol from the plant totaled 1039657 , 850605 and 960374 metric tonnes in 2011 , 2010 and 2009 .', 'methanol demand has a direct impact on ampco 2019s earnings .', 'because global demand for methanol is rather limited , changes in the supply-demand balance can have a significant impact on sales prices .', 'world demand for methanol in 2011 has been estimated to be 55.4 mmt .', 'our plant capacity of 1.1 mmt is about 2 percent of total demand .', 'operating and financial highlights significant operating and financial highlights during 2011 include : 2022 completed the spin-off of our downstream business on june 30 , 2011 2022 acquired a significant operated position in the eagle ford shale play in south texas 2022 added net proved reserves , for the e&p and osm segments combined , of 307 mmboe , excluding dispositions , for a 212 percent reserve replacement ratio .']\\n    ```\\n    table:\\n    ```\\n    [['benchmark', '2011', '2010', '2009'], ['wti crude oil ( dollars per bbl )', '$ 95.11', '$ 79.61', '$ 62.09'], ['western canadian select ( dollars per bbl ) ( a )', '77.97', '65.31', '52.13'], ['aeco natural gas sales index ( dollars per mmbtu ) ( b )', '$ 3.68', '$ 3.89', '$ 3.49']]\\n    ```\\n    question:\\n    how much has the western canadian select dollars per bbl increased since 2009?\\n\""
      ]
     },
     "execution_count": 43,
     "metadata": {},
     "output_type": "execute_result"
    }
   ],
   "source": [
    "from src.config.prompts import format_question_prompt\n",
    "\n",
    "\n",
    "format_question_prompt({\n",
    "                        \"pre_text\": context.pre_text,\n",
    "                        \"post_text\": context.post_text,\n",
    "                        \"table\": context.table,\n",
    "                        \"question\": context.questions[0]['question']\n",
    "                    })"
   ]
  },
  {
   "cell_type": "code",
   "execution_count": 44,
   "metadata": {},
   "outputs": [],
   "source": [
    "import asyncio"
   ]
  },
  {
   "cell_type": "code",
   "execution_count": 45,
   "metadata": {},
   "outputs": [],
   "source": [
    "async def test_llm():\n",
    "    try:\n",
    "        answers = await llm.get_answers(context)\n",
    "        return answers\n",
    "    except Exception as e:\n",
    "        print(f\"Error: {str(e)}\")\n",
    "        return None"
   ]
  },
  {
   "cell_type": "code",
   "execution_count": 46,
   "metadata": {},
   "outputs": [],
   "source": [
    "results = await test_llm()"
   ]
  },
  {
   "cell_type": "code",
   "execution_count": 47,
   "metadata": {},
   "outputs": [
    {
     "data": {
      "text/plain": [
       "['```json\\n{\\n    \"formula\": \"divide(subtract(77.97, 52.13), 52.13)\",\\n    \"formatting_instructions\": {\\n        \"prefix\": \"\",\\n        \"suffix\": \"%\",\\n        \"rounding\": 1,\\n        \"multiplier\": 100\\n    }\\n}\\n```\\n']"
      ]
     },
     "execution_count": 47,
     "metadata": {},
     "output_type": "execute_result"
    }
   ],
   "source": [
    "results"
   ]
  },
  {
   "cell_type": "code",
   "execution_count": 48,
   "metadata": {},
   "outputs": [
    {
     "name": "stdout",
     "output_type": "stream",
     "text": [
      "Processed answer: 49.6%\n"
     ]
    }
   ],
   "source": [
    "try:\n",
    "    answer = processor.process_answer(results[0])\n",
    "    print(f\"Processed answer: {answer}\")\n",
    "except ValueError as e:\n",
    "    print(f\"Error: {e}\")"
   ]
  },
  {
   "cell_type": "code",
   "execution_count": 49,
   "metadata": {},
   "outputs": [
    {
     "data": {
      "text/plain": [
       "[{'question': 'how much has the western canadian select dollars per bbl increased since 2009?',\n",
       "  'answer': '49.6%'}]"
      ]
     },
     "execution_count": 49,
     "metadata": {},
     "output_type": "execute_result"
    }
   ],
   "source": [
    "entry['qa_pairs']"
   ]
  }
 ],
 "metadata": {
  "kernelspec": {
   "display_name": ".venv",
   "language": "python",
   "name": "python3"
  },
  "language_info": {
   "codemirror_mode": {
    "name": "ipython",
    "version": 3
   },
   "file_extension": ".py",
   "mimetype": "text/x-python",
   "name": "python",
   "nbconvert_exporter": "python",
   "pygments_lexer": "ipython3",
   "version": "3.10.10"
  }
 },
 "nbformat": 4,
 "nbformat_minor": 2
}

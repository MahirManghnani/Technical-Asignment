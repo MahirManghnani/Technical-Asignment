{
 "cells": [
  {
   "cell_type": "code",
   "execution_count": 1,
   "metadata": {},
   "outputs": [],
   "source": [
    "import sys\n",
    "from pathlib import Path"
   ]
  },
  {
   "cell_type": "code",
   "execution_count": 2,
   "metadata": {},
   "outputs": [],
   "source": [
    "project_root = Path().resolve().parent\n",
    "sys.path.append(str(project_root))"
   ]
  },
  {
   "cell_type": "code",
   "execution_count": 3,
   "metadata": {},
   "outputs": [],
   "source": [
    "from src.data.data_loader import DataLoader"
   ]
  },
  {
   "cell_type": "code",
   "execution_count": 4,
   "metadata": {},
   "outputs": [],
   "source": [
    "data_loader = DataLoader()\n",
    "qa_pairs = data_loader.load_data()"
   ]
  },
  {
   "cell_type": "code",
   "execution_count": 5,
   "metadata": {},
   "outputs": [
    {
     "data": {
      "text/plain": [
       "{'entry_id': 'entry_0000',\n",
       " 'pre_text': ['26 | 2009 annual report in fiscal 2008 , revenues in the credit union systems and services business segment increased 14% ( 14 % ) from fiscal 2007 .',\n",
       "  'all revenue components within the segment experienced growth during fiscal 2008 .',\n",
       "  'license revenue generated the largest dollar growth in revenue as episys ae , our flagship core processing system aimed at larger credit unions , experienced strong sales throughout the year .',\n",
       "  'support and service revenue , which is the largest component of total revenues for the credit union segment , experienced 34 percent growth in eft support and 10 percent growth in in-house support .',\n",
       "  'gross profit in this business segment increased $ 9344 in fiscal 2008 compared to fiscal 2007 , due primarily to the increase in license revenue , which carries the highest margins .',\n",
       "  'liquidity and capital resources we have historically generated positive cash flow from operations and have generally used funds generated from operations and short-term borrowings on our revolving credit facility to meet capital requirements .',\n",
       "  'we expect this trend to continue in the future .',\n",
       "  'the company 2019s cash and cash equivalents increased to $ 118251 at june 30 , 2009 from $ 65565 at june 30 , 2008 .',\n",
       "  'the following table summarizes net cash from operating activities in the statement of cash flows : 2009 2008 2007 .'],\n",
       " 'post_text': ['year ended june 30 , cash provided by operations increased $ 25587 to $ 206588 for the fiscal year ended june 30 , 2009 as compared to $ 181001 for the fiscal year ended june 30 , 2008 .',\n",
       "  'this increase is primarily attributable to a decrease in receivables compared to the same period a year ago of $ 21214 .',\n",
       "  'this decrease is largely the result of fiscal 2010 annual software maintenance billings being provided to customers earlier than in the prior year , which allowed more cash to be collected before the end of the fiscal year than in previous years .',\n",
       "  'further , we collected more cash overall related to revenues that will be recognized in subsequent periods in the current year than in fiscal 2008 .',\n",
       "  'cash used in investing activities for the fiscal year ended june 2009 was $ 59227 and includes $ 3027 in contingent consideration paid on prior years 2019 acquisitions .',\n",
       "  'cash used in investing activities for the fiscal year ended june 2008 was $ 102148 and includes payments for acquisitions of $ 48109 , plus $ 1215 in contingent consideration paid on prior years 2019 acquisitions .',\n",
       "  'capital expenditures for fiscal 2009 were $ 31562 compared to $ 31105 for fiscal 2008 .',\n",
       "  'cash used for software development in fiscal 2009 was $ 24684 compared to $ 23736 during the prior year .',\n",
       "  'net cash used in financing activities for the current fiscal year was $ 94675 and includes the repurchase of 3106 shares of our common stock for $ 58405 , the payment of dividends of $ 26903 and $ 13489 net repayment on our revolving credit facilities .',\n",
       "  'cash used in financing activities was partially offset by proceeds of $ 3773 from the exercise of stock options and the sale of common stock ( through the employee stock purchase plan ) and $ 348 excess tax benefits from stock option exercises .',\n",
       "  'during fiscal 2008 , net cash used in financing activities for the fiscal year was $ 101905 and includes the repurchase of 4200 shares of our common stock for $ 100996 , the payment of dividends of $ 24683 and $ 429 net repayment on our revolving credit facilities .',\n",
       "  'cash used in financing activities was partially offset by proceeds of $ 20394 from the exercise of stock options and the sale of common stock and $ 3809 excess tax benefits from stock option exercises .',\n",
       "  'beginning during fiscal 2008 , us financial markets and many of the largest us financial institutions have been shaken by negative developments in the home mortgage industry and the mortgage markets , and particularly the markets for subprime mortgage-backed securities .',\n",
       "  'since that time , these and other such developments have resulted in a broad , global economic downturn .',\n",
       "  'while we , as is the case with most companies , have experienced the effects of this downturn , we have not experienced any significant issues with our current collection efforts , and we believe that any future impact to our liquidity will be minimized by cash generated by recurring sources of revenue and due to our access to available lines of credit. .'],\n",
       " 'table': [['2008',\n",
       "   'year ended june 30 2009 2008',\n",
       "   'year ended june 30 2009 2008',\n",
       "   'year ended june 30 2009'],\n",
       "  ['net income', '$ 103102', '$ 104222', '$ 104681'],\n",
       "  ['non-cash expenses', '74397', '70420', '56348'],\n",
       "  ['change in receivables', '21214', '-2913 ( 2913 )', '-28853 ( 28853 )'],\n",
       "  ['change in deferred revenue', '21943', '5100', '24576'],\n",
       "  ['change in other assets and liabilities',\n",
       "   '-14068 ( 14068 )',\n",
       "   '4172',\n",
       "   '17495'],\n",
       "  ['net cash from operating activities', '$ 206588', '$ 181001', '$ 174247']],\n",
       " 'qa_pairs': [{'question': 'what was the percentage change in the net cash from operating activities from 2008 to 2009',\n",
       "   'answer': '14.1%'}]}"
      ]
     },
     "execution_count": 5,
     "metadata": {},
     "output_type": "execute_result"
    }
   ],
   "source": [
    "qa_pairs[0]"
   ]
  },
  {
   "cell_type": "code",
   "execution_count": 6,
   "metadata": {},
   "outputs": [],
   "source": [
    "from src.models.answer_processor import AnswerProcessor\n",
    "\n",
    "\n",
    "processor = AnswerProcessor()"
   ]
  },
  {
   "cell_type": "code",
   "execution_count": 7,
   "metadata": {},
   "outputs": [
    {
     "name": "stdout",
     "output_type": "stream",
     "text": [
      "Processed answer: 1.27%\n"
     ]
    }
   ],
   "source": [
    "llm_response = \"\"\"\n",
    "\n",
    "{\n",
    "  \"formula\": \"divide(subtract(9362.2, 9244.9), 9244.9)\",\n",
    "  \"formatting_instructions\": {\n",
    "    \"prefix\": \"\",\n",
    "    \"suffix\": \"%\",\n",
    "    \"rounding\": 2,\n",
    "    \"multiplier\": 100\n",
    "  }\n",
    "}\n",
    "\n",
    "\"\"\"\n",
    "    \n",
    "try:\n",
    "    answer = processor.process_answer(llm_response)\n",
    "    print(f\"Processed answer: {answer}\")  # Should output: \"1.27%\"\n",
    "except ValueError as e:\n",
    "    print(f\"Error: {e}\")"
   ]
  },
  {
   "cell_type": "code",
   "execution_count": 8,
   "metadata": {},
   "outputs": [
    {
     "ename": "ModuleNotFoundError",
     "evalue": "No module named 'models'",
     "output_type": "error",
     "traceback": [
      "\u001b[0;31m---------------------------------------------------------------------------\u001b[0m",
      "\u001b[0;31mModuleNotFoundError\u001b[0m                       Traceback (most recent call last)",
      "Cell \u001b[0;32mIn[8], line 1\u001b[0m\n\u001b[0;32m----> 1\u001b[0m \u001b[38;5;28;01mfrom\u001b[39;00m \u001b[38;5;21;01mmodels\u001b[39;00m\u001b[38;5;21;01m.\u001b[39;00m\u001b[38;5;21;01mllm_interface\u001b[39;00m \u001b[38;5;28;01mimport\u001b[39;00m LLMInterface, QuestionContext\n\u001b[1;32m      4\u001b[0m \u001b[38;5;28;01masync\u001b[39;00m \u001b[38;5;28;01mdef\u001b[39;00m \u001b[38;5;21mprocess_entries\u001b[39m(entries):\n\u001b[1;32m      5\u001b[0m     llm \u001b[38;5;241m=\u001b[39m LLMInterface()\n",
      "\u001b[0;31mModuleNotFoundError\u001b[0m: No module named 'models'"
     ]
    }
   ],
   "source": [
    "\n",
    "from models.llm_interface import LLMInterface, QuestionContext\n",
    "\n",
    "\n",
    "async def process_entries(entries):\n",
    "    llm = LLMInterface()\n",
    "    all_results = []\n",
    "    \n",
    "    for entry in entries:\n",
    "        context = QuestionContext(\n",
    "            pre_text=entry['pre_text'],\n",
    "            post_text=entry['post_text'],\n",
    "            table=entry['table'],\n",
    "            questions=entry['questions'],\n",
    "            entry_id=entry['id']\n",
    "        )\n",
    "        \n",
    "        answers = await llm.get_answers(context)\n",
    "        all_results.extend(answers)\n",
    "    \n",
    "    return all_results"
   ]
  }
 ],
 "metadata": {
  "kernelspec": {
   "display_name": ".venv",
   "language": "python",
   "name": "python3"
  },
  "language_info": {
   "codemirror_mode": {
    "name": "ipython",
    "version": 3
   },
   "file_extension": ".py",
   "mimetype": "text/x-python",
   "name": "python",
   "nbconvert_exporter": "python",
   "pygments_lexer": "ipython3",
   "version": "3.10.10"
  }
 },
 "nbformat": 4,
 "nbformat_minor": 2
}
